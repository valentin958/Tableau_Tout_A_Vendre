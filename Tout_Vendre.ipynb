{
  "nbformat": 4,
  "nbformat_minor": 0,
  "metadata": {
    "colab": {
      "provenance": []
    },
    "kernelspec": {
      "name": "python3",
      "display_name": "Python 3"
    },
    "language_info": {
      "name": "python"
    }
  },
  "cells": [
    {
      "cell_type": "code",
      "source": [
        "import pandas as pd\n",
        "\n",
        "# Charger le fichier Excel\n",
        "file_path = \"DATA v2 (1).xlsx\"\n",
        "xls = pd.ExcelFile(file_path)\n",
        "\n",
        "# Liste des feuilles à charger\n",
        "sheet_names = xls.sheet_names\n",
        "\n",
        "# Dictionnaire pour stocker les DataFrames nettoyées\n",
        "df_cleaned = {}"
      ],
      "metadata": {
        "id": "2l-A87zC8dEh"
      },
      "execution_count": 32,
      "outputs": []
    },
    {
      "cell_type": "code",
      "source": [
        "sheet_names"
      ],
      "metadata": {
        "colab": {
          "base_uri": "https://localhost:8080/"
        },
        "id": "GPNvNIU69O93",
        "outputId": "8a94568c-f587-4630-cf55-7ee662c28d30"
      },
      "execution_count": 25,
      "outputs": [
        {
          "output_type": "execute_result",
          "data": {
            "text/plain": [
              "['customer', 'geography', 'shops', 'sales']"
            ]
          },
          "metadata": {},
          "execution_count": 25
        }
      ]
    },
    {
      "cell_type": "code",
      "source": [
        "# Charger et nettoyer les données de chaque feuille\n",
        "for sheet in sheet_names:\n",
        "    df = xls.parse(sheet)\n",
        "\n",
        "    # Suppression des colonnes inutiles (exemple de la feuille 'sales')\n",
        "    if 'Unnamed: 0' in df.columns:\n",
        "        df = df.drop(columns=['Unnamed: 0'], errors='ignore')\n",
        "\n",
        "    # Exemple pour détecter et supprimer des valeurs aberrantes pour la colonne 'Ventes bruts'\n",
        "    if 'Ventes bruts' in df.columns:\n",
        "        df = df[df['Ventes bruts'] <= 255]\n",
        "\n",
        "    # Ajouter le DataFrame nettoyé au dictionnaire\n",
        "    df_cleaned[sheet] = df\n"
      ],
      "metadata": {
        "id": "MiNCDKhD9FGb"
      },
      "execution_count": 33,
      "outputs": []
    },
    {
      "cell_type": "code",
      "source": [
        "# Sauvegarder les DataFrames nettoyées dans un nouveau fichier Excel\n",
        "output_file_path = \"dataframe_clean.xlsx\"\n",
        "with pd.ExcelWriter(output_file_path) as writer:\n",
        "    for sheet, df in df_cleaned.items():\n",
        "        df.to_excel(writer, sheet_name=sheet, index=False)"
      ],
      "metadata": {
        "id": "bWXWqNVb9Gbi"
      },
      "execution_count": 34,
      "outputs": []
    },
    {
      "cell_type": "code",
      "source": [
        "print(\"Structure du DataFrame nettoyé :\")\n",
        "for sheet, df in df_cleaned.items():\n",
        "    print(f\"\\nAnalyse de la feuille : {sheet}\")\n",
        "    print(\"Aperçu des premières lignes :\")\n",
        "    print(df.head())  # Affiche les 5 premières lignes du DataFrame\n",
        "    print(\"\\nInformation générale sur la structure :\")\n",
        "    print(df.info())  # Affiche les types de données, nombre de valeurs non-nulles, etc.\n",
        "    print(\"\\nValeurs manquantes par colonne :\")\n",
        "    print(df.isnull().sum())  # Affiche le nombre de valeurs manquantes par colonne\n",
        "    print(\"-\" * 50)"
      ],
      "metadata": {
        "colab": {
          "base_uri": "https://localhost:8080/"
        },
        "id": "8KoVTHHU9fvL",
        "outputId": "8ac2a1bf-e9e5-44fa-f95e-c4fe1fa6474d"
      },
      "execution_count": 35,
      "outputs": [
        {
          "output_type": "stream",
          "name": "stdout",
          "text": [
            "Structure du DataFrame nettoyé :\n",
            "\n",
            "Analyse de la feuille : customer\n",
            "Aperçu des premières lignes :\n",
            "   CustomerID CustomerType  MemberCard  GeographyID\n",
            "0     7256534         BtoC       False          NaN\n",
            "1     9761503         BtoC       False          NaN\n",
            "2     2831142         BtoC       False          NaN\n",
            "3     8525325         BtoC        True       1002.0\n",
            "4     7740655         BtoC       False          NaN\n",
            "\n",
            "Information générale sur la structure :\n",
            "<class 'pandas.core.frame.DataFrame'>\n",
            "RangeIndex: 81358 entries, 0 to 81357\n",
            "Data columns (total 4 columns):\n",
            " #   Column        Non-Null Count  Dtype  \n",
            "---  ------        --------------  -----  \n",
            " 0   CustomerID    81358 non-null  int64  \n",
            " 1   CustomerType  81358 non-null  object \n",
            " 2   MemberCard    81358 non-null  bool   \n",
            " 3   GeographyID   21687 non-null  float64\n",
            "dtypes: bool(1), float64(1), int64(1), object(1)\n",
            "memory usage: 1.9+ MB\n",
            "None\n",
            "\n",
            "Valeurs manquantes par colonne :\n",
            "CustomerID          0\n",
            "CustomerType        0\n",
            "MemberCard          0\n",
            "GeographyID     59671\n",
            "dtype: int64\n",
            "--------------------------------------------------\n",
            "\n",
            "Analyse de la feuille : geography\n",
            "Aperçu des premières lignes :\n",
            "   GeographyID                      Region        Department Country  \\\n",
            "0         1001               Ile de France             Paris  France   \n",
            "1         1002        Auvergne-Rhône-Alpes             Rhône  France   \n",
            "2         1003  Provence-Alpes-Côte d'Azur  Bouches-du-Rhône  France   \n",
            "3         1004            Pays de la Loire  Loire-Atlantique  France   \n",
            "4         1004            Pays de la Loire  Loire-Atlantique  France   \n",
            "\n",
            "        City  ZipCode  \n",
            "0      Paris    75001  \n",
            "1       Lyon    69001  \n",
            "2  Marseille    13001  \n",
            "3     Nantes    44000  \n",
            "4     Nantes    44000  \n",
            "\n",
            "Information générale sur la structure :\n",
            "<class 'pandas.core.frame.DataFrame'>\n",
            "RangeIndex: 5 entries, 0 to 4\n",
            "Data columns (total 6 columns):\n",
            " #   Column       Non-Null Count  Dtype \n",
            "---  ------       --------------  ----- \n",
            " 0   GeographyID  5 non-null      int64 \n",
            " 1   Region       5 non-null      object\n",
            " 2   Department   5 non-null      object\n",
            " 3   Country      5 non-null      object\n",
            " 4   City         5 non-null      object\n",
            " 5   ZipCode      5 non-null      int64 \n",
            "dtypes: int64(2), object(4)\n",
            "memory usage: 372.0+ bytes\n",
            "None\n",
            "\n",
            "Valeurs manquantes par colonne :\n",
            "GeographyID    0\n",
            "Region         0\n",
            "Department     0\n",
            "Country        0\n",
            "City           0\n",
            "ZipCode        0\n",
            "dtype: int64\n",
            "--------------------------------------------------\n",
            "\n",
            "Analyse de la feuille : shops\n",
            "Aperçu des premières lignes :\n",
            "   shop_id           Name  GeographyID    Costs\n",
            "0        1     Super-Miam         1001  1040300\n",
            "1        2          Tosco         1002   405000\n",
            "2        3     Marché fun         1003   300200\n",
            "3        4  Joyeux marché         1004   215000\n",
            "\n",
            "Information générale sur la structure :\n",
            "<class 'pandas.core.frame.DataFrame'>\n",
            "RangeIndex: 4 entries, 0 to 3\n",
            "Data columns (total 4 columns):\n",
            " #   Column       Non-Null Count  Dtype \n",
            "---  ------       --------------  ----- \n",
            " 0   shop_id      4 non-null      int64 \n",
            " 1   Name         4 non-null      object\n",
            " 2   GeographyID  4 non-null      int64 \n",
            " 3   Costs        4 non-null      int64 \n",
            "dtypes: int64(3), object(1)\n",
            "memory usage: 260.0+ bytes\n",
            "None\n",
            "\n",
            "Valeurs manquantes par colonne :\n",
            "shop_id        0\n",
            "Name           0\n",
            "GeographyID    0\n",
            "Costs          0\n",
            "dtype: int64\n",
            "--------------------------------------------------\n",
            "\n",
            "Analyse de la feuille : sales\n",
            "Aperçu des premières lignes :\n",
            "   SalesID        Date  Ventes bruts  Ventes nets PaymentType  CustomerID  \\\n",
            "0  3777356  01/03/2022            25          7.5        Card     3724597   \n",
            "1  4874929  01/03/2022            50         15.0        Card     6637099   \n",
            "2  1657920  01/03/2022            20          6.0        Card     3537814   \n",
            "3  1699731  01/03/2022            25          7.5        Cash     2178411   \n",
            "4  2353804  01/03/2022            25          7.5        Cash     7453049   \n",
            "\n",
            "   shop_id  \n",
            "0        4  \n",
            "1        1  \n",
            "2        1  \n",
            "3        1  \n",
            "4        1  \n",
            "\n",
            "Information générale sur la structure :\n",
            "<class 'pandas.core.frame.DataFrame'>\n",
            "Index: 158837 entries, 0 to 158843\n",
            "Data columns (total 7 columns):\n",
            " #   Column        Non-Null Count   Dtype  \n",
            "---  ------        --------------   -----  \n",
            " 0   SalesID       158837 non-null  int64  \n",
            " 1   Date          158837 non-null  object \n",
            " 2   Ventes bruts  158837 non-null  int64  \n",
            " 3   Ventes nets   158837 non-null  float64\n",
            " 4   PaymentType   158837 non-null  object \n",
            " 5   CustomerID    158837 non-null  int64  \n",
            " 6   shop_id       158837 non-null  int64  \n",
            "dtypes: float64(1), int64(4), object(2)\n",
            "memory usage: 9.7+ MB\n",
            "None\n",
            "\n",
            "Valeurs manquantes par colonne :\n",
            "SalesID         0\n",
            "Date            0\n",
            "Ventes bruts    0\n",
            "Ventes nets     0\n",
            "PaymentType     0\n",
            "CustomerID      0\n",
            "shop_id         0\n",
            "dtype: int64\n",
            "--------------------------------------------------\n"
          ]
        }
      ]
    }
  ]
}